{
 "cells": [
  {
   "cell_type": "code",
   "execution_count": 2,
   "id": "c0ac7869",
   "metadata": {},
   "outputs": [],
   "source": [
    "import numpy as np\n",
    "import pandas as pd\n",
    "import matplotlib.pyplot as plt"
   ]
  },
  {
   "cell_type": "code",
   "execution_count": 4,
   "id": "b31b9bfd",
   "metadata": {},
   "outputs": [
    {
     "data": {
      "text/html": [
       "<div>\n",
       "<style scoped>\n",
       "    .dataframe tbody tr th:only-of-type {\n",
       "        vertical-align: middle;\n",
       "    }\n",
       "\n",
       "    .dataframe tbody tr th {\n",
       "        vertical-align: top;\n",
       "    }\n",
       "\n",
       "    .dataframe thead th {\n",
       "        text-align: right;\n",
       "    }\n",
       "</style>\n",
       "<table border=\"1\" class=\"dataframe\">\n",
       "  <thead>\n",
       "    <tr style=\"text-align: right;\">\n",
       "      <th></th>\n",
       "      <th>year</th>\n",
       "      <th>month</th>\n",
       "      <th>stateDescription</th>\n",
       "      <th>sectorName</th>\n",
       "      <th>customers</th>\n",
       "      <th>price</th>\n",
       "      <th>revenue</th>\n",
       "      <th>sales</th>\n",
       "    </tr>\n",
       "  </thead>\n",
       "  <tbody>\n",
       "    <tr>\n",
       "      <th>0</th>\n",
       "      <td>2001</td>\n",
       "      <td>1</td>\n",
       "      <td>Wyoming</td>\n",
       "      <td>all sectors</td>\n",
       "      <td>NaN</td>\n",
       "      <td>4.31</td>\n",
       "      <td>48.12840</td>\n",
       "      <td>1116.17208</td>\n",
       "    </tr>\n",
       "    <tr>\n",
       "      <th>1</th>\n",
       "      <td>2001</td>\n",
       "      <td>1</td>\n",
       "      <td>Wyoming</td>\n",
       "      <td>commercial</td>\n",
       "      <td>NaN</td>\n",
       "      <td>5.13</td>\n",
       "      <td>12.67978</td>\n",
       "      <td>247.08691</td>\n",
       "    </tr>\n",
       "    <tr>\n",
       "      <th>2</th>\n",
       "      <td>2001</td>\n",
       "      <td>1</td>\n",
       "      <td>Wyoming</td>\n",
       "      <td>industrial</td>\n",
       "      <td>NaN</td>\n",
       "      <td>3.26</td>\n",
       "      <td>19.60858</td>\n",
       "      <td>602.30484</td>\n",
       "    </tr>\n",
       "    <tr>\n",
       "      <th>3</th>\n",
       "      <td>2001</td>\n",
       "      <td>1</td>\n",
       "      <td>Wyoming</td>\n",
       "      <td>other</td>\n",
       "      <td>NaN</td>\n",
       "      <td>4.75</td>\n",
       "      <td>0.76868</td>\n",
       "      <td>16.17442</td>\n",
       "    </tr>\n",
       "    <tr>\n",
       "      <th>4</th>\n",
       "      <td>2001</td>\n",
       "      <td>1</td>\n",
       "      <td>Wyoming</td>\n",
       "      <td>residential</td>\n",
       "      <td>NaN</td>\n",
       "      <td>6.01</td>\n",
       "      <td>15.07136</td>\n",
       "      <td>250.60591</td>\n",
       "    </tr>\n",
       "  </tbody>\n",
       "</table>\n",
       "</div>"
      ],
      "text/plain": [
       "   year  month stateDescription   sectorName  customers  price   revenue  \\\n",
       "0  2001      1          Wyoming  all sectors        NaN   4.31  48.12840   \n",
       "1  2001      1          Wyoming   commercial        NaN   5.13  12.67978   \n",
       "2  2001      1          Wyoming   industrial        NaN   3.26  19.60858   \n",
       "3  2001      1          Wyoming        other        NaN   4.75   0.76868   \n",
       "4  2001      1          Wyoming  residential        NaN   6.01  15.07136   \n",
       "\n",
       "        sales  \n",
       "0  1116.17208  \n",
       "1   247.08691  \n",
       "2   602.30484  \n",
       "3    16.17442  \n",
       "4   250.60591  "
      ]
     },
     "execution_count": 4,
     "metadata": {},
     "output_type": "execute_result"
    }
   ],
   "source": [
    "df = pd.read_csv(\"clean_data.csv\")\n",
    "df.head()"
   ]
  },
  {
   "cell_type": "code",
   "execution_count": 5,
   "id": "f9e6b6e0",
   "metadata": {},
   "outputs": [
    {
     "name": "stdout",
     "output_type": "stream",
     "text": [
      "<class 'pandas.core.frame.DataFrame'>\n",
      "RangeIndex: 85870 entries, 0 to 85869\n",
      "Data columns (total 8 columns):\n",
      " #   Column            Non-Null Count  Dtype  \n",
      "---  ------            --------------  -----  \n",
      " 0   year              85870 non-null  int64  \n",
      " 1   month             85870 non-null  int64  \n",
      " 2   stateDescription  85870 non-null  object \n",
      " 3   sectorName        85870 non-null  object \n",
      " 4   customers         59830 non-null  float64\n",
      " 5   price             85870 non-null  float64\n",
      " 6   revenue           85870 non-null  float64\n",
      " 7   sales             85870 non-null  float64\n",
      "dtypes: float64(4), int64(2), object(2)\n",
      "memory usage: 5.2+ MB\n"
     ]
    }
   ],
   "source": [
    "df.info()"
   ]
  },
  {
   "cell_type": "code",
   "execution_count": 6,
   "id": "1954da6f",
   "metadata": {},
   "outputs": [
    {
     "data": {
      "text/plain": [
       "(85870, 8)"
      ]
     },
     "execution_count": 6,
     "metadata": {},
     "output_type": "execute_result"
    }
   ],
   "source": [
    "df.shape"
   ]
  },
  {
   "cell_type": "code",
   "execution_count": 7,
   "id": "1136c598",
   "metadata": {},
   "outputs": [
    {
     "data": {
      "text/html": [
       "<div>\n",
       "<style scoped>\n",
       "    .dataframe tbody tr th:only-of-type {\n",
       "        vertical-align: middle;\n",
       "    }\n",
       "\n",
       "    .dataframe tbody tr th {\n",
       "        vertical-align: top;\n",
       "    }\n",
       "\n",
       "    .dataframe thead th {\n",
       "        text-align: right;\n",
       "    }\n",
       "</style>\n",
       "<table border=\"1\" class=\"dataframe\">\n",
       "  <thead>\n",
       "    <tr style=\"text-align: right;\">\n",
       "      <th></th>\n",
       "      <th>year</th>\n",
       "      <th>month</th>\n",
       "      <th>customers</th>\n",
       "      <th>price</th>\n",
       "      <th>revenue</th>\n",
       "      <th>sales</th>\n",
       "    </tr>\n",
       "  </thead>\n",
       "  <tbody>\n",
       "    <tr>\n",
       "      <th>count</th>\n",
       "      <td>85870.000000</td>\n",
       "      <td>85870.000000</td>\n",
       "      <td>5.983000e+04</td>\n",
       "      <td>85870.000000</td>\n",
       "      <td>85870.000000</td>\n",
       "      <td>85870.000000</td>\n",
       "    </tr>\n",
       "    <tr>\n",
       "      <th>mean</th>\n",
       "      <td>2012.043321</td>\n",
       "      <td>6.480144</td>\n",
       "      <td>2.916013e+06</td>\n",
       "      <td>9.300193</td>\n",
       "      <td>586.627155</td>\n",
       "      <td>5980.048970</td>\n",
       "    </tr>\n",
       "    <tr>\n",
       "      <th>std</th>\n",
       "      <td>6.660304</td>\n",
       "      <td>3.461589</td>\n",
       "      <td>1.200567e+07</td>\n",
       "      <td>5.010382</td>\n",
       "      <td>2161.047702</td>\n",
       "      <td>21302.453181</td>\n",
       "    </tr>\n",
       "    <tr>\n",
       "      <th>min</th>\n",
       "      <td>2001.000000</td>\n",
       "      <td>1.000000</td>\n",
       "      <td>0.000000e+00</td>\n",
       "      <td>0.000000</td>\n",
       "      <td>-0.000010</td>\n",
       "      <td>0.000000</td>\n",
       "    </tr>\n",
       "    <tr>\n",
       "      <th>25%</th>\n",
       "      <td>2006.000000</td>\n",
       "      <td>3.000000</td>\n",
       "      <td>4.998000e+03</td>\n",
       "      <td>6.650000</td>\n",
       "      <td>29.475195</td>\n",
       "      <td>289.144572</td>\n",
       "    </tr>\n",
       "    <tr>\n",
       "      <th>50%</th>\n",
       "      <td>2012.000000</td>\n",
       "      <td>6.000000</td>\n",
       "      <td>2.997540e+05</td>\n",
       "      <td>8.840000</td>\n",
       "      <td>121.641500</td>\n",
       "      <td>1447.518085</td>\n",
       "    </tr>\n",
       "    <tr>\n",
       "      <th>75%</th>\n",
       "      <td>2018.000000</td>\n",
       "      <td>9.000000</td>\n",
       "      <td>2.028716e+06</td>\n",
       "      <td>11.380000</td>\n",
       "      <td>421.320628</td>\n",
       "      <td>4339.950965</td>\n",
       "    </tr>\n",
       "    <tr>\n",
       "      <th>max</th>\n",
       "      <td>2024.000000</td>\n",
       "      <td>12.000000</td>\n",
       "      <td>1.625050e+08</td>\n",
       "      <td>116.670000</td>\n",
       "      <td>52361.450970</td>\n",
       "      <td>391900.008970</td>\n",
       "    </tr>\n",
       "  </tbody>\n",
       "</table>\n",
       "</div>"
      ],
      "text/plain": [
       "               year         month     customers         price       revenue  \\\n",
       "count  85870.000000  85870.000000  5.983000e+04  85870.000000  85870.000000   \n",
       "mean    2012.043321      6.480144  2.916013e+06      9.300193    586.627155   \n",
       "std        6.660304      3.461589  1.200567e+07      5.010382   2161.047702   \n",
       "min     2001.000000      1.000000  0.000000e+00      0.000000     -0.000010   \n",
       "25%     2006.000000      3.000000  4.998000e+03      6.650000     29.475195   \n",
       "50%     2012.000000      6.000000  2.997540e+05      8.840000    121.641500   \n",
       "75%     2018.000000      9.000000  2.028716e+06     11.380000    421.320628   \n",
       "max     2024.000000     12.000000  1.625050e+08    116.670000  52361.450970   \n",
       "\n",
       "               sales  \n",
       "count   85870.000000  \n",
       "mean     5980.048970  \n",
       "std     21302.453181  \n",
       "min         0.000000  \n",
       "25%       289.144572  \n",
       "50%      1447.518085  \n",
       "75%      4339.950965  \n",
       "max    391900.008970  "
      ]
     },
     "execution_count": 7,
     "metadata": {},
     "output_type": "execute_result"
    }
   ],
   "source": [
    "df.describe()"
   ]
  },
  {
   "cell_type": "code",
   "execution_count": 11,
   "id": "a9cef58d",
   "metadata": {},
   "outputs": [
    {
     "data": {
      "text/plain": [
       "year                   24\n",
       "month                  12\n",
       "stateDescription       62\n",
       "sectorName              6\n",
       "customers           45038\n",
       "price                2943\n",
       "revenue             78693\n",
       "sales               79292\n",
       "dtype: int64"
      ]
     },
     "execution_count": 11,
     "metadata": {},
     "output_type": "execute_result"
    }
   ],
   "source": [
    "df.nunique()"
   ]
  },
  {
   "cell_type": "code",
   "execution_count": 13,
   "id": "4c738c85",
   "metadata": {},
   "outputs": [
    {
     "data": {
      "text/plain": [
       "year                    0\n",
       "month                   0\n",
       "stateDescription        0\n",
       "sectorName              0\n",
       "customers           26040\n",
       "price                   0\n",
       "revenue                 0\n",
       "sales                   0\n",
       "dtype: int64"
      ]
     },
     "execution_count": 13,
     "metadata": {},
     "output_type": "execute_result"
    }
   ],
   "source": [
    "df.isnull().sum()"
   ]
  },
  {
   "cell_type": "code",
   "execution_count": 18,
   "id": "3b8606cc",
   "metadata": {},
   "outputs": [
    {
     "data": {
      "text/plain": [
       "year                0.000000\n",
       "month               0.000000\n",
       "stateDescription    0.000000\n",
       "sectorName          0.000000\n",
       "customers           0.303249\n",
       "price               0.000000\n",
       "revenue             0.000000\n",
       "sales               0.000000\n",
       "dtype: float64"
      ]
     },
     "execution_count": 18,
     "metadata": {},
     "output_type": "execute_result"
    }
   ],
   "source": [
    "df.isna().sum() / df.shape[0]"
   ]
  },
  {
   "cell_type": "code",
   "execution_count": 28,
   "id": "b3db43bd",
   "metadata": {},
   "outputs": [],
   "source": [
    "df[\"customers\"].fillna(df[\"customers\"].mean(), inplace=True)"
   ]
  },
  {
   "cell_type": "code",
   "execution_count": 29,
   "id": "698eb6dc",
   "metadata": {},
   "outputs": [
    {
     "data": {
      "text/html": [
       "<div>\n",
       "<style scoped>\n",
       "    .dataframe tbody tr th:only-of-type {\n",
       "        vertical-align: middle;\n",
       "    }\n",
       "\n",
       "    .dataframe tbody tr th {\n",
       "        vertical-align: top;\n",
       "    }\n",
       "\n",
       "    .dataframe thead th {\n",
       "        text-align: right;\n",
       "    }\n",
       "</style>\n",
       "<table border=\"1\" class=\"dataframe\">\n",
       "  <thead>\n",
       "    <tr style=\"text-align: right;\">\n",
       "      <th></th>\n",
       "      <th>year</th>\n",
       "      <th>month</th>\n",
       "      <th>stateDescription</th>\n",
       "      <th>sectorName</th>\n",
       "      <th>customers</th>\n",
       "      <th>price</th>\n",
       "      <th>revenue</th>\n",
       "      <th>sales</th>\n",
       "    </tr>\n",
       "  </thead>\n",
       "  <tbody>\n",
       "    <tr>\n",
       "      <th>0</th>\n",
       "      <td>2001</td>\n",
       "      <td>1</td>\n",
       "      <td>Wyoming</td>\n",
       "      <td>all sectors</td>\n",
       "      <td>2.916013e+06</td>\n",
       "      <td>4.31</td>\n",
       "      <td>48.12840</td>\n",
       "      <td>1116.17208</td>\n",
       "    </tr>\n",
       "    <tr>\n",
       "      <th>1</th>\n",
       "      <td>2001</td>\n",
       "      <td>1</td>\n",
       "      <td>Wyoming</td>\n",
       "      <td>commercial</td>\n",
       "      <td>2.916013e+06</td>\n",
       "      <td>5.13</td>\n",
       "      <td>12.67978</td>\n",
       "      <td>247.08691</td>\n",
       "    </tr>\n",
       "    <tr>\n",
       "      <th>2</th>\n",
       "      <td>2001</td>\n",
       "      <td>1</td>\n",
       "      <td>Wyoming</td>\n",
       "      <td>industrial</td>\n",
       "      <td>2.916013e+06</td>\n",
       "      <td>3.26</td>\n",
       "      <td>19.60858</td>\n",
       "      <td>602.30484</td>\n",
       "    </tr>\n",
       "    <tr>\n",
       "      <th>3</th>\n",
       "      <td>2001</td>\n",
       "      <td>1</td>\n",
       "      <td>Wyoming</td>\n",
       "      <td>other</td>\n",
       "      <td>2.916013e+06</td>\n",
       "      <td>4.75</td>\n",
       "      <td>0.76868</td>\n",
       "      <td>16.17442</td>\n",
       "    </tr>\n",
       "    <tr>\n",
       "      <th>4</th>\n",
       "      <td>2001</td>\n",
       "      <td>1</td>\n",
       "      <td>Wyoming</td>\n",
       "      <td>residential</td>\n",
       "      <td>2.916013e+06</td>\n",
       "      <td>6.01</td>\n",
       "      <td>15.07136</td>\n",
       "      <td>250.60591</td>\n",
       "    </tr>\n",
       "  </tbody>\n",
       "</table>\n",
       "</div>"
      ],
      "text/plain": [
       "   year  month stateDescription   sectorName     customers  price   revenue  \\\n",
       "0  2001      1          Wyoming  all sectors  2.916013e+06   4.31  48.12840   \n",
       "1  2001      1          Wyoming   commercial  2.916013e+06   5.13  12.67978   \n",
       "2  2001      1          Wyoming   industrial  2.916013e+06   3.26  19.60858   \n",
       "3  2001      1          Wyoming        other  2.916013e+06   4.75   0.76868   \n",
       "4  2001      1          Wyoming  residential  2.916013e+06   6.01  15.07136   \n",
       "\n",
       "        sales  \n",
       "0  1116.17208  \n",
       "1   247.08691  \n",
       "2   602.30484  \n",
       "3    16.17442  \n",
       "4   250.60591  "
      ]
     },
     "execution_count": 29,
     "metadata": {},
     "output_type": "execute_result"
    }
   ],
   "source": [
    "df.head()"
   ]
  },
  {
   "cell_type": "code",
   "execution_count": 36,
   "id": "67b8bfd7",
   "metadata": {},
   "outputs": [],
   "source": [
    "from sklearn.preprocessing import OneHotEncoder, StandardScaler\n",
    "from sklearn.model_selection import train_test_split\n",
    "from sklearn.compose import ColumnTransformer\n",
    "from sklearn.pipeline import make_pipeline"
   ]
  },
  {
   "cell_type": "code",
   "execution_count": 34,
   "id": "f054b252",
   "metadata": {},
   "outputs": [],
   "source": [
    "categorical_features = [\"stateDescription\", \"sectorName\"]\n",
    "numeric_features = [\"year\", \"month\", \"customers\", \"sales\"]"
   ]
  },
  {
   "cell_type": "code",
   "execution_count": 51,
   "id": "7f050a3e",
   "metadata": {},
   "outputs": [],
   "source": [
    "preprocessor = ColumnTransformer([\n",
    "    (\"cat\", OneHotEncoder(handle_unknown=\"ignore\"), categorical_features),\n",
    "    (\"num\", StandardScaler(), numeric_features)\n",
    "    ], remainder='passthrough')"
   ]
  },
  {
   "cell_type": "code",
   "execution_count": 52,
   "id": "e1fb2760",
   "metadata": {},
   "outputs": [],
   "source": [
    "from sklearn.linear_model import LinearRegression, Lasso, Ridge, ElasticNet"
   ]
  },
  {
   "cell_type": "code",
   "execution_count": 53,
   "id": "32ba72d1",
   "metadata": {},
   "outputs": [],
   "source": [
    "model = make_pipeline(preprocessor, LinearRegression())"
   ]
  },
  {
   "cell_type": "code",
   "execution_count": 46,
   "id": "ec24d189",
   "metadata": {},
   "outputs": [],
   "source": [
    "X = df.drop([\"price\", \"revenue\"], axis=1)\n",
    "y = df[\"price\"]"
   ]
  },
  {
   "cell_type": "code",
   "execution_count": 48,
   "id": "ca0e9fd9",
   "metadata": {},
   "outputs": [],
   "source": [
    "X_train, X_test, y_train, y_test = train_test_split(X, y, test_size=0.25, random_state=0)"
   ]
  },
  {
   "cell_type": "code",
   "execution_count": 54,
   "id": "d4404f8e",
   "metadata": {},
   "outputs": [
    {
     "data": {
      "text/html": [
       "<style>#sk-container-id-3 {color: black;}#sk-container-id-3 pre{padding: 0;}#sk-container-id-3 div.sk-toggleable {background-color: white;}#sk-container-id-3 label.sk-toggleable__label {cursor: pointer;display: block;width: 100%;margin-bottom: 0;padding: 0.3em;box-sizing: border-box;text-align: center;}#sk-container-id-3 label.sk-toggleable__label-arrow:before {content: \"▸\";float: left;margin-right: 0.25em;color: #696969;}#sk-container-id-3 label.sk-toggleable__label-arrow:hover:before {color: black;}#sk-container-id-3 div.sk-estimator:hover label.sk-toggleable__label-arrow:before {color: black;}#sk-container-id-3 div.sk-toggleable__content {max-height: 0;max-width: 0;overflow: hidden;text-align: left;background-color: #f0f8ff;}#sk-container-id-3 div.sk-toggleable__content pre {margin: 0.2em;color: black;border-radius: 0.25em;background-color: #f0f8ff;}#sk-container-id-3 input.sk-toggleable__control:checked~div.sk-toggleable__content {max-height: 200px;max-width: 100%;overflow: auto;}#sk-container-id-3 input.sk-toggleable__control:checked~label.sk-toggleable__label-arrow:before {content: \"▾\";}#sk-container-id-3 div.sk-estimator input.sk-toggleable__control:checked~label.sk-toggleable__label {background-color: #d4ebff;}#sk-container-id-3 div.sk-label input.sk-toggleable__control:checked~label.sk-toggleable__label {background-color: #d4ebff;}#sk-container-id-3 input.sk-hidden--visually {border: 0;clip: rect(1px 1px 1px 1px);clip: rect(1px, 1px, 1px, 1px);height: 1px;margin: -1px;overflow: hidden;padding: 0;position: absolute;width: 1px;}#sk-container-id-3 div.sk-estimator {font-family: monospace;background-color: #f0f8ff;border: 1px dotted black;border-radius: 0.25em;box-sizing: border-box;margin-bottom: 0.5em;}#sk-container-id-3 div.sk-estimator:hover {background-color: #d4ebff;}#sk-container-id-3 div.sk-parallel-item::after {content: \"\";width: 100%;border-bottom: 1px solid gray;flex-grow: 1;}#sk-container-id-3 div.sk-label:hover label.sk-toggleable__label {background-color: #d4ebff;}#sk-container-id-3 div.sk-serial::before {content: \"\";position: absolute;border-left: 1px solid gray;box-sizing: border-box;top: 0;bottom: 0;left: 50%;z-index: 0;}#sk-container-id-3 div.sk-serial {display: flex;flex-direction: column;align-items: center;background-color: white;padding-right: 0.2em;padding-left: 0.2em;position: relative;}#sk-container-id-3 div.sk-item {position: relative;z-index: 1;}#sk-container-id-3 div.sk-parallel {display: flex;align-items: stretch;justify-content: center;background-color: white;position: relative;}#sk-container-id-3 div.sk-item::before, #sk-container-id-3 div.sk-parallel-item::before {content: \"\";position: absolute;border-left: 1px solid gray;box-sizing: border-box;top: 0;bottom: 0;left: 50%;z-index: -1;}#sk-container-id-3 div.sk-parallel-item {display: flex;flex-direction: column;z-index: 1;position: relative;background-color: white;}#sk-container-id-3 div.sk-parallel-item:first-child::after {align-self: flex-end;width: 50%;}#sk-container-id-3 div.sk-parallel-item:last-child::after {align-self: flex-start;width: 50%;}#sk-container-id-3 div.sk-parallel-item:only-child::after {width: 0;}#sk-container-id-3 div.sk-dashed-wrapped {border: 1px dashed gray;margin: 0 0.4em 0.5em 0.4em;box-sizing: border-box;padding-bottom: 0.4em;background-color: white;}#sk-container-id-3 div.sk-label label {font-family: monospace;font-weight: bold;display: inline-block;line-height: 1.2em;}#sk-container-id-3 div.sk-label-container {text-align: center;}#sk-container-id-3 div.sk-container {/* jupyter's `normalize.less` sets `[hidden] { display: none; }` but bootstrap.min.css set `[hidden] { display: none !important; }` so we also need the `!important` here to be able to override the default hidden behavior on the sphinx rendered scikit-learn.org. See: https://github.com/scikit-learn/scikit-learn/issues/21755 */display: inline-block !important;position: relative;}#sk-container-id-3 div.sk-text-repr-fallback {display: none;}</style><div id=\"sk-container-id-3\" class=\"sk-top-container\"><div class=\"sk-text-repr-fallback\"><pre>Pipeline(steps=[(&#x27;columntransformer&#x27;,\n",
       "                 ColumnTransformer(remainder=&#x27;passthrough&#x27;,\n",
       "                                   transformers=[(&#x27;cat&#x27;,\n",
       "                                                  OneHotEncoder(handle_unknown=&#x27;ignore&#x27;),\n",
       "                                                  [&#x27;stateDescription&#x27;,\n",
       "                                                   &#x27;sectorName&#x27;]),\n",
       "                                                 (&#x27;num&#x27;, StandardScaler(),\n",
       "                                                  [&#x27;year&#x27;, &#x27;month&#x27;, &#x27;customers&#x27;,\n",
       "                                                   &#x27;sales&#x27;])])),\n",
       "                (&#x27;linearregression&#x27;, LinearRegression())])</pre><b>In a Jupyter environment, please rerun this cell to show the HTML representation or trust the notebook. <br />On GitHub, the HTML representation is unable to render, please try loading this page with nbviewer.org.</b></div><div class=\"sk-container\" hidden><div class=\"sk-item sk-dashed-wrapped\"><div class=\"sk-label-container\"><div class=\"sk-label sk-toggleable\"><input class=\"sk-toggleable__control sk-hidden--visually\" id=\"sk-estimator-id-9\" type=\"checkbox\" ><label for=\"sk-estimator-id-9\" class=\"sk-toggleable__label sk-toggleable__label-arrow\">Pipeline</label><div class=\"sk-toggleable__content\"><pre>Pipeline(steps=[(&#x27;columntransformer&#x27;,\n",
       "                 ColumnTransformer(remainder=&#x27;passthrough&#x27;,\n",
       "                                   transformers=[(&#x27;cat&#x27;,\n",
       "                                                  OneHotEncoder(handle_unknown=&#x27;ignore&#x27;),\n",
       "                                                  [&#x27;stateDescription&#x27;,\n",
       "                                                   &#x27;sectorName&#x27;]),\n",
       "                                                 (&#x27;num&#x27;, StandardScaler(),\n",
       "                                                  [&#x27;year&#x27;, &#x27;month&#x27;, &#x27;customers&#x27;,\n",
       "                                                   &#x27;sales&#x27;])])),\n",
       "                (&#x27;linearregression&#x27;, LinearRegression())])</pre></div></div></div><div class=\"sk-serial\"><div class=\"sk-item sk-dashed-wrapped\"><div class=\"sk-label-container\"><div class=\"sk-label sk-toggleable\"><input class=\"sk-toggleable__control sk-hidden--visually\" id=\"sk-estimator-id-10\" type=\"checkbox\" ><label for=\"sk-estimator-id-10\" class=\"sk-toggleable__label sk-toggleable__label-arrow\">columntransformer: ColumnTransformer</label><div class=\"sk-toggleable__content\"><pre>ColumnTransformer(remainder=&#x27;passthrough&#x27;,\n",
       "                  transformers=[(&#x27;cat&#x27;, OneHotEncoder(handle_unknown=&#x27;ignore&#x27;),\n",
       "                                 [&#x27;stateDescription&#x27;, &#x27;sectorName&#x27;]),\n",
       "                                (&#x27;num&#x27;, StandardScaler(),\n",
       "                                 [&#x27;year&#x27;, &#x27;month&#x27;, &#x27;customers&#x27;, &#x27;sales&#x27;])])</pre></div></div></div><div class=\"sk-parallel\"><div class=\"sk-parallel-item\"><div class=\"sk-item\"><div class=\"sk-label-container\"><div class=\"sk-label sk-toggleable\"><input class=\"sk-toggleable__control sk-hidden--visually\" id=\"sk-estimator-id-11\" type=\"checkbox\" ><label for=\"sk-estimator-id-11\" class=\"sk-toggleable__label sk-toggleable__label-arrow\">cat</label><div class=\"sk-toggleable__content\"><pre>[&#x27;stateDescription&#x27;, &#x27;sectorName&#x27;]</pre></div></div></div><div class=\"sk-serial\"><div class=\"sk-item\"><div class=\"sk-estimator sk-toggleable\"><input class=\"sk-toggleable__control sk-hidden--visually\" id=\"sk-estimator-id-12\" type=\"checkbox\" ><label for=\"sk-estimator-id-12\" class=\"sk-toggleable__label sk-toggleable__label-arrow\">OneHotEncoder</label><div class=\"sk-toggleable__content\"><pre>OneHotEncoder(handle_unknown=&#x27;ignore&#x27;)</pre></div></div></div></div></div></div><div class=\"sk-parallel-item\"><div class=\"sk-item\"><div class=\"sk-label-container\"><div class=\"sk-label sk-toggleable\"><input class=\"sk-toggleable__control sk-hidden--visually\" id=\"sk-estimator-id-13\" type=\"checkbox\" ><label for=\"sk-estimator-id-13\" class=\"sk-toggleable__label sk-toggleable__label-arrow\">num</label><div class=\"sk-toggleable__content\"><pre>[&#x27;year&#x27;, &#x27;month&#x27;, &#x27;customers&#x27;, &#x27;sales&#x27;]</pre></div></div></div><div class=\"sk-serial\"><div class=\"sk-item\"><div class=\"sk-estimator sk-toggleable\"><input class=\"sk-toggleable__control sk-hidden--visually\" id=\"sk-estimator-id-14\" type=\"checkbox\" ><label for=\"sk-estimator-id-14\" class=\"sk-toggleable__label sk-toggleable__label-arrow\">StandardScaler</label><div class=\"sk-toggleable__content\"><pre>StandardScaler()</pre></div></div></div></div></div></div><div class=\"sk-parallel-item\"><div class=\"sk-item\"><div class=\"sk-label-container\"><div class=\"sk-label sk-toggleable\"><input class=\"sk-toggleable__control sk-hidden--visually\" id=\"sk-estimator-id-15\" type=\"checkbox\" ><label for=\"sk-estimator-id-15\" class=\"sk-toggleable__label sk-toggleable__label-arrow\">remainder</label><div class=\"sk-toggleable__content\"><pre>[]</pre></div></div></div><div class=\"sk-serial\"><div class=\"sk-item\"><div class=\"sk-estimator sk-toggleable\"><input class=\"sk-toggleable__control sk-hidden--visually\" id=\"sk-estimator-id-16\" type=\"checkbox\" ><label for=\"sk-estimator-id-16\" class=\"sk-toggleable__label sk-toggleable__label-arrow\">passthrough</label><div class=\"sk-toggleable__content\"><pre>passthrough</pre></div></div></div></div></div></div></div></div><div class=\"sk-item\"><div class=\"sk-estimator sk-toggleable\"><input class=\"sk-toggleable__control sk-hidden--visually\" id=\"sk-estimator-id-17\" type=\"checkbox\" ><label for=\"sk-estimator-id-17\" class=\"sk-toggleable__label sk-toggleable__label-arrow\">LinearRegression</label><div class=\"sk-toggleable__content\"><pre>LinearRegression()</pre></div></div></div></div></div></div></div>"
      ],
      "text/plain": [
       "Pipeline(steps=[('columntransformer',\n",
       "                 ColumnTransformer(remainder='passthrough',\n",
       "                                   transformers=[('cat',\n",
       "                                                  OneHotEncoder(handle_unknown='ignore'),\n",
       "                                                  ['stateDescription',\n",
       "                                                   'sectorName']),\n",
       "                                                 ('num', StandardScaler(),\n",
       "                                                  ['year', 'month', 'customers',\n",
       "                                                   'sales'])])),\n",
       "                ('linearregression', LinearRegression())])"
      ]
     },
     "execution_count": 54,
     "metadata": {},
     "output_type": "execute_result"
    }
   ],
   "source": [
    "model.fit(X_train, y_train)"
   ]
  },
  {
   "cell_type": "code",
   "execution_count": 55,
   "id": "ff9c5f82",
   "metadata": {},
   "outputs": [
    {
     "data": {
      "text/plain": [
       "0.6457652059670786"
      ]
     },
     "execution_count": 55,
     "metadata": {},
     "output_type": "execute_result"
    }
   ],
   "source": [
    "model.score(X_train, y_train)"
   ]
  },
  {
   "cell_type": "code",
   "execution_count": 56,
   "id": "82512bf6",
   "metadata": {},
   "outputs": [],
   "source": [
    "from sklearn.metrics import mean_absolute_error, accuracy_score, mean_squared_error, r2_score"
   ]
  },
  {
   "cell_type": "code",
   "execution_count": 57,
   "id": "027c87f2",
   "metadata": {},
   "outputs": [],
   "source": [
    "y_pred = model.predict(X_test)"
   ]
  },
  {
   "cell_type": "code",
   "execution_count": 58,
   "id": "c8643f35",
   "metadata": {},
   "outputs": [
    {
     "name": "stdout",
     "output_type": "stream",
     "text": [
      "RMSE: 2.961273146432549\n",
      "R²: 0.6515886984104433\n"
     ]
    }
   ],
   "source": [
    "print(\"RMSE:\", mean_squared_error(y_test, y_pred, squared=False))\n",
    "print(\"R²:\", r2_score(y_test, y_pred))"
   ]
  },
  {
   "cell_type": "code",
   "execution_count": 61,
   "id": "83add33d",
   "metadata": {},
   "outputs": [
    {
     "name": "stdout",
     "output_type": "stream",
     "text": [
      "RMSE: 4.945161391069011\n",
      "R²: 0.02838046714498843\n",
      "____________________\n",
      "RMSE: 2.961348358839613\n",
      "R²: 0.6515709998165419\n",
      "____________________\n",
      "RMSE: 4.844932567985107\n",
      "R²: 0.0673670155904148\n",
      "____________________\n"
     ]
    }
   ],
   "source": [
    "models = {\n",
    "    \"lasso\": Lasso(),\n",
    "    \"ridge\": Ridge(),\n",
    "    \"elastic\": ElasticNet()\n",
    "}\n",
    "\n",
    "for k, v in models.items():\n",
    "    k = make_pipeline(preprocessor, v)\n",
    "    k.fit(X_train, y_train)\n",
    "    pred = k.predict(X_test)\n",
    "    print(\"RMSE:\", mean_squared_error(y_test, pred, squared=False))\n",
    "    print(\"R²:\", r2_score(y_test, pred))\n",
    "    print(\"_\" * 20)"
   ]
  },
  {
   "cell_type": "code",
   "execution_count": 62,
   "id": "1b8d3c15",
   "metadata": {},
   "outputs": [],
   "source": [
    "import joblib\n",
    "import pickle"
   ]
  },
  {
   "cell_type": "code",
   "execution_count": 66,
   "id": "78af9f31",
   "metadata": {},
   "outputs": [],
   "source": [
    "pickle.dump(model, open(\"regmodel.pkl\", \"wb\"))"
   ]
  },
  {
   "cell_type": "code",
   "execution_count": 67,
   "id": "7ca2ff46",
   "metadata": {},
   "outputs": [
    {
     "data": {
      "text/html": [
       "<div>\n",
       "<style scoped>\n",
       "    .dataframe tbody tr th:only-of-type {\n",
       "        vertical-align: middle;\n",
       "    }\n",
       "\n",
       "    .dataframe tbody tr th {\n",
       "        vertical-align: top;\n",
       "    }\n",
       "\n",
       "    .dataframe thead th {\n",
       "        text-align: right;\n",
       "    }\n",
       "</style>\n",
       "<table border=\"1\" class=\"dataframe\">\n",
       "  <thead>\n",
       "    <tr style=\"text-align: right;\">\n",
       "      <th></th>\n",
       "      <th>year</th>\n",
       "      <th>month</th>\n",
       "      <th>stateDescription</th>\n",
       "      <th>sectorName</th>\n",
       "      <th>customers</th>\n",
       "      <th>sales</th>\n",
       "    </tr>\n",
       "  </thead>\n",
       "  <tbody>\n",
       "    <tr>\n",
       "      <th>5714</th>\n",
       "      <td>2002</td>\n",
       "      <td>7</td>\n",
       "      <td>Idaho</td>\n",
       "      <td>other</td>\n",
       "      <td>2.916013e+06</td>\n",
       "      <td>31.35882</td>\n",
       "    </tr>\n",
       "    <tr>\n",
       "      <th>12737</th>\n",
       "      <td>2004</td>\n",
       "      <td>6</td>\n",
       "      <td>New Hampshire</td>\n",
       "      <td>transportation</td>\n",
       "      <td>2.916013e+06</td>\n",
       "      <td>0.00000</td>\n",
       "    </tr>\n",
       "    <tr>\n",
       "      <th>16870</th>\n",
       "      <td>2005</td>\n",
       "      <td>7</td>\n",
       "      <td>Delaware</td>\n",
       "      <td>transportation</td>\n",
       "      <td>2.916013e+06</td>\n",
       "      <td>0.00000</td>\n",
       "    </tr>\n",
       "    <tr>\n",
       "      <th>49132</th>\n",
       "      <td>2014</td>\n",
       "      <td>3</td>\n",
       "      <td>Missouri</td>\n",
       "      <td>industrial</td>\n",
       "      <td>1.027200e+04</td>\n",
       "      <td>1426.09446</td>\n",
       "    </tr>\n",
       "    <tr>\n",
       "      <th>61668</th>\n",
       "      <td>2017</td>\n",
       "      <td>7</td>\n",
       "      <td>Nevada</td>\n",
       "      <td>industrial</td>\n",
       "      <td>3.618000e+03</td>\n",
       "      <td>1148.51307</td>\n",
       "    </tr>\n",
       "  </tbody>\n",
       "</table>\n",
       "</div>"
      ],
      "text/plain": [
       "       year  month stateDescription      sectorName     customers       sales\n",
       "5714   2002      7            Idaho           other  2.916013e+06    31.35882\n",
       "12737  2004      6    New Hampshire  transportation  2.916013e+06     0.00000\n",
       "16870  2005      7         Delaware  transportation  2.916013e+06     0.00000\n",
       "49132  2014      3         Missouri      industrial  1.027200e+04  1426.09446\n",
       "61668  2017      7           Nevada      industrial  3.618000e+03  1148.51307"
      ]
     },
     "execution_count": 67,
     "metadata": {},
     "output_type": "execute_result"
    }
   ],
   "source": [
    "X_train.head()"
   ]
  },
  {
   "cell_type": "code",
   "execution_count": null,
   "id": "822681b0",
   "metadata": {},
   "outputs": [],
   "source": []
  }
 ],
 "metadata": {
  "kernelspec": {
   "display_name": "base",
   "language": "python",
   "name": "python3"
  },
  "language_info": {
   "codemirror_mode": {
    "name": "ipython",
    "version": 3
   },
   "file_extension": ".py",
   "mimetype": "text/x-python",
   "name": "python",
   "nbconvert_exporter": "python",
   "pygments_lexer": "ipython3",
   "version": "3.11.5"
  }
 },
 "nbformat": 4,
 "nbformat_minor": 5
}
